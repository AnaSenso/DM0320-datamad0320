{
 "cells": [
  {
   "cell_type": "markdown",
   "metadata": {},
   "source": [
    "# Advanced Querying Mongo"
   ]
  },
  {
   "cell_type": "markdown",
   "metadata": {},
   "source": [
    "Importing libraries and setting up connection"
   ]
  },
  {
   "cell_type": "code",
   "execution_count": 3,
   "metadata": {},
   "outputs": [
    {
     "name": "stdout",
     "output_type": "stream",
     "text": [
      "mongodb://localhost/companies\n"
     ]
    }
   ],
   "source": [
    "from pymongo import MongoClient\n",
    "from pymongo import ASCENDING, DESCENDING\n",
    "import re\n",
    "\n",
    "dbName = \"companies\"\n",
    "mongodbURL = f\"mongodb://localhost/{dbName}\"\n",
    "print(mongodbURL)\n",
    "client = MongoClient(mongodbURL, connectTimeoutMS=2000,serverSelectionTimeoutMS=2000)\n",
    "db = client.get_database()"
   ]
  },
  {
   "cell_type": "markdown",
   "metadata": {},
   "source": [
    "### 1. All the companies whose name match 'Babelgum'. Retrieve only their `name` field."
   ]
  },
  {
   "cell_type": "code",
   "execution_count": 4,
   "metadata": {},
   "outputs": [
    {
     "data": {
      "text/plain": [
       "[{'_id': ObjectId('52cdef7c4bab8bd675297da0'), 'name': 'Babelgum'}]"
      ]
     },
     "execution_count": 4,
     "metadata": {},
     "output_type": "execute_result"
    }
   ],
   "source": [
    "# Your Code\n",
    "list(db.companies.find({\"name\":\"Babelgum\"},{\"name\":1}))"
   ]
  },
  {
   "cell_type": "markdown",
   "metadata": {},
   "source": [
    "### 2. All the companies that have more than 5000 employees. Limit the search to 20 companies and sort them by **number of employees**."
   ]
  },
  {
   "cell_type": "code",
   "execution_count": 5,
   "metadata": {},
   "outputs": [
    {
     "data": {
      "text/plain": [
       "[{'name': 'Nintendo'},\n",
       " {'name': 'Hexaware Technologies'},\n",
       " {'name': 'Facebook'},\n",
       " {'name': 'OpenText'},\n",
       " {'name': 'LSI'},\n",
       " {'name': 'CPM Braxis'},\n",
       " {'name': 'Microchip Technologies'},\n",
       " {'name': 'Mediaset'},\n",
       " {'name': 'Mindray Medical International'},\n",
       " {'name': 'Baidu'},\n",
       " {'name': 'Dentsu'},\n",
       " {'name': 'Tata Communications'},\n",
       " {'name': 'Atmel'},\n",
       " {'name': 'Acxiom'},\n",
       " {'name': 'Acxiom'},\n",
       " {'name': 'SRA International'},\n",
       " {'name': \"Moody's\"},\n",
       " {'name': 'ManTech'},\n",
       " {'name': 'Adobe Systems'},\n",
       " {'name': 'Broadcom'}]"
      ]
     },
     "execution_count": 5,
     "metadata": {},
     "output_type": "execute_result"
    }
   ],
   "source": [
    "# Your Code\n",
    "list(db.companies.find({\"number_of_employees\":{ \"$gt\": 5000 }},{\"_id\":0,\"name\":1}).sort(\n",
    "    [(\"number_of_employees\", ASCENDING)]\n",
    ").limit(20))\n"
   ]
  },
  {
   "cell_type": "markdown",
   "metadata": {},
   "source": [
    "### 3. All the companies founded between 2000 and 2005, both years included. Retrieve only the `name` and `founded_year` fields."
   ]
  },
  {
   "cell_type": "code",
   "execution_count": 6,
   "metadata": {},
   "outputs": [
    {
     "data": {
      "text/plain": [
       "[{'name': 'Digg', 'founded_year': 2004},\n",
       " {'name': 'StumbleUpon', 'founded_year': 2002},\n",
       " {'name': 'Gizmoz', 'founded_year': 2003},\n",
       " {'name': 'Facebook', 'founded_year': 2004},\n",
       " {'name': 'Plaxo', 'founded_year': 2002},\n",
       " {'name': 'Technorati', 'founded_year': 2002},\n",
       " {'name': 'AddThis', 'founded_year': 2004},\n",
       " {'name': 'Veoh', 'founded_year': 2004},\n",
       " {'name': 'Meetup', 'founded_year': 2002},\n",
       " {'name': 'SmugMug', 'founded_year': 2002}]"
      ]
     },
     "execution_count": 6,
     "metadata": {},
     "output_type": "execute_result"
    }
   ],
   "source": [
    "# Your Code\n",
    "list(db.companies.find({\"founded_year\":{ \"$in\": list(range(2000,2005)) }},\n",
    "                       {\"_id\":0,\"name\":1,\"founded_year\":1}).limit(10))"
   ]
  },
  {
   "cell_type": "markdown",
   "metadata": {},
   "source": [
    "### 4. All the companies that had a Valuation Amount of more than 100.000.000 and have been founded before 2010. Retrieve only the `name` and `ipo` fields."
   ]
  },
  {
   "cell_type": "code",
   "execution_count": 7,
   "metadata": {},
   "outputs": [
    {
     "data": {
      "text/plain": [
       "[{'name': 'Facebook',\n",
       "  'ipo': {'valuation_amount': 104000000000,\n",
       "   'valuation_currency_code': 'USD',\n",
       "   'pub_year': 2012,\n",
       "   'pub_month': 5,\n",
       "   'pub_day': 18,\n",
       "   'stock_symbol': 'NASDAQ:FB'}},\n",
       " {'name': 'Twitter',\n",
       "  'ipo': {'valuation_amount': 18100000000,\n",
       "   'valuation_currency_code': 'USD',\n",
       "   'pub_year': 2013,\n",
       "   'pub_month': 11,\n",
       "   'pub_day': 7,\n",
       "   'stock_symbol': 'NYSE:TWTR'}},\n",
       " {'name': 'Yelp',\n",
       "  'ipo': {'valuation_amount': 1300000000,\n",
       "   'valuation_currency_code': 'USD',\n",
       "   'pub_year': 2012,\n",
       "   'pub_month': 3,\n",
       "   'pub_day': 2,\n",
       "   'stock_symbol': 'NYSE:YELP'}}]"
      ]
     },
     "execution_count": 7,
     "metadata": {},
     "output_type": "execute_result"
    }
   ],
   "source": [
    "# Your Code\n",
    "# https://docs.mongodb.com/manual/tutorial/query-embedded-documents/\n",
    "list(db.companies.find({\"$and\":[{\"founded_year\":{ \"$lt\": 2010 }},\n",
    "                                {\"ipo.valuation_amount\": { \"$gt\": 100000000 }}]},\n",
    "                       {\"_id\":0,\"name\":1,\"ipo\":1}).limit(3))"
   ]
  },
  {
   "cell_type": "markdown",
   "metadata": {},
   "source": [
    "### 5. All the companies that have less than 1000 employees and have been founded before 2005. Order them by the number of employees and limit the search to 10 companies."
   ]
  },
  {
   "cell_type": "code",
   "execution_count": 8,
   "metadata": {},
   "outputs": [
    {
     "data": {
      "text/plain": [
       "[{'name': 'Fox Interactive Media'},\n",
       " {'name': 'Skype'},\n",
       " {'name': 'Ticketmaster'},\n",
       " {'name': 'stylediary'},\n",
       " {'name': 'MindTouch'},\n",
       " {'name': 'Simpy'},\n",
       " {'name': 'Eurekster'},\n",
       " {'name': 'Compete'},\n",
       " {'name': 'EditGrid'},\n",
       " {'name': 'Monster'}]"
      ]
     },
     "execution_count": 8,
     "metadata": {},
     "output_type": "execute_result"
    }
   ],
   "source": [
    "# Your Code\n",
    "list(db.companies.find({\"$and\":[{\"number_of_employees\":{ \"$lt\": 1000 }},\n",
    "                                {\"founded_year\": { \"$lt\": 2005 }}]},\n",
    "                       {\"_id\":0,\"name\":1}).sort(\n",
    "    [(\"number_of_employees\", ASCENDING)]\n",
    ").limit(10))"
   ]
  },
  {
   "cell_type": "markdown",
   "metadata": {},
   "source": [
    "### 6. All the companies that don't include the `partners` field."
   ]
  },
  {
   "cell_type": "code",
   "execution_count": 9,
   "metadata": {},
   "outputs": [
    {
     "data": {
      "text/plain": [
       "[{'name': 'AdventNet'},\n",
       " {'name': 'Wetpaint'},\n",
       " {'name': 'Zoho'},\n",
       " {'name': 'Omnidrive'},\n",
       " {'name': 'Postini'}]"
      ]
     },
     "execution_count": 9,
     "metadata": {},
     "output_type": "execute_result"
    }
   ],
   "source": [
    "# Your Code\n",
    "list(db.companies.find({ \"partners\": { \"$exists\": True }},{\"_id\":0,\"name\":1}).limit(5))"
   ]
  },
  {
   "cell_type": "markdown",
   "metadata": {},
   "source": [
    "### 7. All the companies that have a null type of value on the `category_code` field."
   ]
  },
  {
   "cell_type": "code",
   "execution_count": 10,
   "metadata": {},
   "outputs": [
    {
     "data": {
      "text/plain": [
       "[{'name': 'Collective'},\n",
       " {'name': 'Snimmer'},\n",
       " {'name': 'KoolIM'},\n",
       " {'name': 'Level9 Media'},\n",
       " {'name': 'VidKing'}]"
      ]
     },
     "execution_count": 10,
     "metadata": {},
     "output_type": "execute_result"
    }
   ],
   "source": [
    "# Your Code\n",
    "list(db.companies.find({ \"category_code\": { \"$type\": \"null\" }},{\"_id\":0,\"name\":1}).limit(5))"
   ]
  },
  {
   "cell_type": "markdown",
   "metadata": {},
   "source": [
    "### 8. All the companies that have at least 100 employees but less than 1000. Retrieve only the `name` and `number of employees` fields."
   ]
  },
  {
   "cell_type": "code",
   "execution_count": 11,
   "metadata": {},
   "outputs": [
    {
     "data": {
      "text/plain": [
       "[{'name': 'AdventNet', 'number_of_employees': 600},\n",
       " {'name': 'AddThis', 'number_of_employees': 120},\n",
       " {'name': 'OpenX', 'number_of_employees': 305},\n",
       " {'name': 'LifeLock', 'number_of_employees': 644},\n",
       " {'name': 'Jajah', 'number_of_employees': 110}]"
      ]
     },
     "execution_count": 11,
     "metadata": {},
     "output_type": "execute_result"
    }
   ],
   "source": [
    "# Your Code\n",
    "list(db.companies.find({\"number_of_employees\":{ \"$in\": list(range(100,999)) }},\n",
    "                       {\"_id\":0,\"name\":1,\"number_of_employees\":1}).limit(5))"
   ]
  },
  {
   "cell_type": "markdown",
   "metadata": {},
   "source": [
    "### 9. Order all the companies by their IPO price in a descending order."
   ]
  },
  {
   "cell_type": "code",
   "execution_count": 12,
   "metadata": {},
   "outputs": [
    {
     "data": {
      "text/plain": [
       "[{'name': 'GREE'},\n",
       " {'name': 'Facebook'},\n",
       " {'name': 'Amazon'},\n",
       " {'name': 'Twitter'},\n",
       " {'name': 'Groupon'},\n",
       " {'name': 'Tencent'},\n",
       " {'name': 'Western Digital'},\n",
       " {'name': 'LinkedIn'},\n",
       " {'name': 'BMC Software'},\n",
       " {'name': 'Rackspace'}]"
      ]
     },
     "execution_count": 12,
     "metadata": {},
     "output_type": "execute_result"
    }
   ],
   "source": [
    "# Your Code\n",
    "list(db.companies.find({ \"_id\": { \"$exists\": True }},{\"_id\":0,\"name\":1})\n",
    "     .sort([(\"ipo.valuation_amount\", DESCENDING)]).limit(10))"
   ]
  },
  {
   "cell_type": "markdown",
   "metadata": {},
   "source": [
    "### 10. Retrieve the 10 companies with more employees, order by the `number of employees`"
   ]
  },
  {
   "cell_type": "code",
   "execution_count": 13,
   "metadata": {},
   "outputs": [
    {
     "data": {
      "text/plain": [
       "[{'name': 'Siemens', 'number_of_employees': 405000},\n",
       " {'name': 'IBM', 'number_of_employees': 388000},\n",
       " {'name': 'Toyota', 'number_of_employees': 320000},\n",
       " {'name': 'PayPal', 'number_of_employees': 300000},\n",
       " {'name': 'Nippon Telegraph and Telephone Corporation',\n",
       "  'number_of_employees': 227000},\n",
       " {'name': 'Samsung Electronics', 'number_of_employees': 221726},\n",
       " {'name': 'Accenture', 'number_of_employees': 205000},\n",
       " {'name': 'Tata Consultancy Services', 'number_of_employees': 200300},\n",
       " {'name': 'Flextronics International', 'number_of_employees': 200000},\n",
       " {'name': 'Safeway', 'number_of_employees': 186000}]"
      ]
     },
     "execution_count": 13,
     "metadata": {},
     "output_type": "execute_result"
    }
   ],
   "source": [
    "# Your Code\n",
    "list(db.companies.find({ \"_id\": { \"$exists\": True }},{\"_id\":0,\"name\":1,\"number_of_employees\":1})\n",
    "     .sort([(\"number_of_employees\", DESCENDING)]).limit(10))"
   ]
  },
  {
   "cell_type": "markdown",
   "metadata": {},
   "source": [
    "### 11. All the companies founded on the second semester of the year. Limit your search to 1000 companies."
   ]
  },
  {
   "cell_type": "code",
   "execution_count": 15,
   "metadata": {},
   "outputs": [
    {
     "ename": "SyntaxError",
     "evalue": "invalid syntax (<ipython-input-15-b50ec5bac306>, line 3)",
     "output_type": "error",
     "traceback": [
      "\u001b[0;36m  File \u001b[0;32m\"<ipython-input-15-b50ec5bac306>\"\u001b[0;36m, line \u001b[0;32m3\u001b[0m\n\u001b[0;31m    {\"_id\":0,\"name\":1,\"founded_month\":1}).limit(1000))p\u001b[0m\n\u001b[0m                                                      ^\u001b[0m\n\u001b[0;31mSyntaxError\u001b[0m\u001b[0;31m:\u001b[0m invalid syntax\n"
     ]
    }
   ],
   "source": [
    "# Your Code\n",
    "list(db.companies.find({\"founded_month\":{ \"$in\": list(range(7,12)) }},\n",
    "                       {\"_id\":0,\"name\":1,\"founded_month\":1}).limit(1000))"
   ]
  },
  {
   "cell_type": "markdown",
   "metadata": {},
   "source": [
    "### 12. All the companies founded before 2000 that have an acquisition amount of more than 10.000.00"
   ]
  },
  {
   "cell_type": "code",
   "execution_count": 28,
   "metadata": {},
   "outputs": [
    {
     "data": {
      "text/plain": [
       "[{'name': 'Postini', 'acquisition': {'price_amount': 625000000}},\n",
       " {'name': 'SideStep', 'acquisition': {'price_amount': 180000000}},\n",
       " {'name': 'Recipezaar', 'acquisition': {'price_amount': 25000000}},\n",
       " {'name': 'Cyworld', 'acquisition': {'price_amount': 7140000}},\n",
       " {'name': 'PayPal', 'acquisition': {'price_amount': 1500000000}}]"
      ]
     },
     "execution_count": 28,
     "metadata": {},
     "output_type": "execute_result"
    }
   ],
   "source": [
    "# Your Code\n",
    "list(db.companies.find({\"$and\":[{\"founded_year\":{ \"$lt\": 2000 }},\n",
    "                                {\"acquisition.price_amount\": { \"$gt\": 10000 }}]},\n",
    "                       {\"_id\":0,\"name\":1,\"acquisition.price_amount\":1}).limit(5))"
   ]
  },
  {
   "cell_type": "markdown",
   "metadata": {},
   "source": [
    "### 13. All the companies that have been acquired after 2010, order by the acquisition amount, and retrieve only their `name` and `acquisition` field."
   ]
  },
  {
   "cell_type": "code",
   "execution_count": 30,
   "metadata": {},
   "outputs": [
    {
     "data": {
      "text/plain": [
       "[{'name': 'BEA Systems',\n",
       "  'acquisition': {'price_amount': 8500000000,\n",
       "   'price_currency_code': 'USD',\n",
       "   'term_code': None,\n",
       "   'source_url': 'http://www.oracle.com/corporate/press/2008_jan/bea.html',\n",
       "   'source_description': 'Oracle to Acquire BEA Systems',\n",
       "   'acquired_year': 2008,\n",
       "   'acquired_month': 1,\n",
       "   'acquired_day': 16,\n",
       "   'acquiring_company': {'name': 'Oracle Corporation',\n",
       "    'permalink': 'oracle'}}},\n",
       " {'name': 'Navteq',\n",
       "  'acquisition': {'price_amount': 8100000000,\n",
       "   'price_currency_code': 'USD',\n",
       "   'term_code': None,\n",
       "   'source_url': 'http://www.businessweek.com/stories/2007-10-01/nokia-to-pay-8-dot-1-billion-for-navteqbusinessweek-business-news-stock-market-and-financial-advice',\n",
       "   'source_description': 'Press Release',\n",
       "   'acquired_year': 2008,\n",
       "   'acquired_month': 7,\n",
       "   'acquired_day': 10,\n",
       "   'acquiring_company': {'name': 'Nokia', 'permalink': 'nokia'}}},\n",
       " {'name': 'Sun Microsystems',\n",
       "  'acquisition': {'price_amount': 7400000000,\n",
       "   'price_currency_code': 'USD',\n",
       "   'term_code': 'cash',\n",
       "   'source_url': 'http://www.techcrunch.com/2009/04/20/oracle-to-buy-sun-hold-on-to-your-hats/',\n",
       "   'source_description': 'Oracle To Buy Sun For Approximately $7.4 Billion - Hold On To Your Hats',\n",
       "   'acquired_year': 2009,\n",
       "   'acquired_month': 4,\n",
       "   'acquired_day': 20,\n",
       "   'acquiring_company': {'name': 'Oracle Corporation',\n",
       "    'permalink': 'oracle'}}}]"
      ]
     },
     "execution_count": 30,
     "metadata": {},
     "output_type": "execute_result"
    }
   ],
   "source": [
    "# Your Code\n",
    "list(db.companies.find({\"$and\":[{\"founded_year\":{ \"$lt\": 2000 }},\n",
    "                                {\"acquisition.price_amount\": { \"$exists\": True }}]}\n",
    "                       ,{\"_id\":0,\"name\":1, \"acquisition\":1})\n",
    "     .sort([(\"acquisition.price_amount\", DESCENDING)]).limit(3))"
   ]
  },
  {
   "cell_type": "markdown",
   "metadata": {},
   "source": [
    "### 14. Order the companies by their `founded year`, retrieving only their `name` and `founded year`."
   ]
  },
  {
   "cell_type": "code",
   "execution_count": 32,
   "metadata": {},
   "outputs": [
    {
     "data": {
      "text/plain": [
       "[{'name': 'Fixya', 'founded_year': 2013},\n",
       " {'name': 'Wamba', 'founded_year': 2013},\n",
       " {'name': 'Advaliant', 'founded_year': 2013},\n",
       " {'name': 'Fluc', 'founded_year': 2013},\n",
       " {'name': 'iBazar', 'founded_year': 2013}]"
      ]
     },
     "execution_count": 32,
     "metadata": {},
     "output_type": "execute_result"
    }
   ],
   "source": [
    "# Your Code\n",
    "list(db.companies.find({ \"_id\": { \"$exists\": True }},{\"_id\":0,\"name\":1,\"founded_year\":1})\n",
    "     .sort([(\"founded_year\", DESCENDING)]).limit(5))"
   ]
  },
  {
   "cell_type": "markdown",
   "metadata": {},
   "source": [
    "### 15. All the companies that have been founded on the first seven days of the month, including the seventh. Sort them by their `acquisition price` in a descending order. Limit the search to 10 documents."
   ]
  },
  {
   "cell_type": "code",
   "execution_count": 34,
   "metadata": {},
   "outputs": [
    {
     "data": {
      "text/plain": [
       "[{'name': 'Sun Microsystems'},\n",
       " {'name': 'Siebel Systems'},\n",
       " {'name': 'Netscape'},\n",
       " {'name': 'SuccessFactors'},\n",
       " {'name': 'YouTube'},\n",
       " {'name': 'Zappos'},\n",
       " {'name': 'Meraki'},\n",
       " {'name': 'Tumblr'},\n",
       " {'name': 'Alibaba'},\n",
       " {'name': 'Kiva Systems'}]"
      ]
     },
     "execution_count": 34,
     "metadata": {},
     "output_type": "execute_result"
    }
   ],
   "source": [
    "# Your Code\n",
    "list(db.companies.find({\"founded_month\":{ \"$in\": list(range(1,7)) }},{\"_id\":0,\"name\":1})\n",
    "     .sort([(\"acquisition.price_amount\", DESCENDING)]).limit(10))"
   ]
  },
  {
   "cell_type": "markdown",
   "metadata": {},
   "source": [
    "### 16. All the companies on the 'web' `category` that have more than 4000 employees. Sort them by the amount of employees in ascending order."
   ]
  },
  {
   "cell_type": "code",
   "execution_count": 37,
   "metadata": {},
   "outputs": [
    {
     "data": {
      "text/plain": [
       "[{'name': 'Expedia'},\n",
       " {'name': 'AOL'},\n",
       " {'name': 'Webkinz'},\n",
       " {'name': 'Rakuten'},\n",
       " {'name': 'Los Angeles Times Media Group'}]"
      ]
     },
     "execution_count": 37,
     "metadata": {},
     "output_type": "execute_result"
    }
   ],
   "source": [
    "# Your Code\n",
    "list(db.companies.find({\"$and\":[{\"category_code\":{ \"$eq\": \"web\" }},\n",
    "                                {\"number_of_employees\":{ \"$gt\": 4000 }}]},\n",
    "                        {\"_id\":0,\"name\":1})\n",
    "     .sort([(\"number_of_employees\", ASCENDING)]).limit(5))"
   ]
  },
  {
   "cell_type": "markdown",
   "metadata": {},
   "source": [
    "### 17. All the companies whose acquisition amount is more than 10.000.000, and currency is 'EUR'."
   ]
  },
  {
   "cell_type": "code",
   "execution_count": 39,
   "metadata": {},
   "outputs": [
    {
     "data": {
      "text/plain": [
       "[{'name': 'ZYB'},\n",
       " {'name': 'Apertio'},\n",
       " {'name': 'Greenfield Online'},\n",
       " {'name': 'Webedia'},\n",
       " {'name': 'Wayfinder'}]"
      ]
     },
     "execution_count": 39,
     "metadata": {},
     "output_type": "execute_result"
    }
   ],
   "source": [
    "# Your Code\n",
    "list(db.companies.find({\"$and\":[{\"acquisition.price_currency_code\":{ \"$eq\": \"EUR\" }},\n",
    "                                {\"acquisition.price_amount\":{ \"$gt\": 10000000 }}]},\n",
    "                        {\"_id\":0,\"name\":1}).limit(5))"
   ]
  },
  {
   "cell_type": "markdown",
   "metadata": {},
   "source": [
    "### 18. All the companies that have been acquired on the first trimester of the year. Limit the search to 10 companies, and retrieve only their `name` and `acquisition` fields."
   ]
  },
  {
   "cell_type": "code",
   "execution_count": 42,
   "metadata": {},
   "outputs": [
    {
     "ename": "SyntaxError",
     "evalue": "invalid syntax (<ipython-input-42-41e1125c50d7>, line 3)",
     "output_type": "error",
     "traceback": [
      "\u001b[0;36m  File \u001b[0;32m\"<ipython-input-42-41e1125c50d7>\"\u001b[0;36m, line \u001b[0;32m3\u001b[0m\n\u001b[0;31m    {\"_id\":0,\"name\":1,\"acquisition\":1}).limit(10))p\u001b[0m\n\u001b[0m                                                  ^\u001b[0m\n\u001b[0;31mSyntaxError\u001b[0m\u001b[0;31m:\u001b[0m invalid syntax\n"
     ]
    }
   ],
   "source": [
    "# Your Code\n",
    "list(db.companies.find({\"acquisition.acquired_month\":{ \"$in\": list(range(1,3)) }},\n",
    "                       {\"_id\":0,\"name\":1,\"acquisition\":1}).limit(10))"
   ]
  },
  {
   "cell_type": "markdown",
   "metadata": {},
   "source": [
    "# Bonus\n",
    "### 19. All the companies that have been founded between 2000 and 2010, but have not been acquired before 2011."
   ]
  },
  {
   "cell_type": "code",
   "execution_count": 43,
   "metadata": {},
   "outputs": [
    {
     "data": {
      "text/plain": [
       "[{'name': 'Wetpaint'},\n",
       " {'name': 'Digg'},\n",
       " {'name': 'Geni'},\n",
       " {'name': 'blogTV'},\n",
       " {'name': 'Revision3'}]"
      ]
     },
     "execution_count": 43,
     "metadata": {},
     "output_type": "execute_result"
    }
   ],
   "source": [
    "# Your Code\n",
    "list(db.companies.find({\"$and\":[{\"founded_year\":{ \"$in\": list(range(2000,2010)) }},\n",
    "                                {\"acquisition.acquired_year\":{ \"$gt\": 2011 }}]},\n",
    "                        {\"_id\":0,\"name\":1}).limit(5))"
   ]
  },
  {
   "cell_type": "markdown",
   "metadata": {},
   "source": [
    "### 20. All the companies that have been 'deadpooled' after the third year."
   ]
  },
  {
   "cell_type": "code",
   "execution_count": 48,
   "metadata": {},
   "outputs": [
    {
     "ename": "SyntaxError",
     "evalue": "invalid syntax (<ipython-input-48-56a568a95650>, line 3)",
     "output_type": "error",
     "traceback": [
      "\u001b[0;36m  File \u001b[0;32m\"<ipython-input-48-56a568a95650>\"\u001b[0;36m, line \u001b[0;32m3\u001b[0m\n\u001b[0;31m    {\"Diff\": {\"$subtract\":[\"founded_year\",\"deadpooled_year\"]}}}).limit(5))\u001b[0m\n\u001b[0m                                                              ^\u001b[0m\n\u001b[0;31mSyntaxError\u001b[0m\u001b[0;31m:\u001b[0m invalid syntax\n"
     ]
    }
   ],
   "source": [
    "# Your Code\n",
    "list(db.companies.find({\"$match\":{\"deadpooled_year\":{\"$exists\": True}},\n",
    "                        {\"Diff\": {\"$subtract\":[\"founded_year\",\"deadpooled_year\"]}}}).limit(5))"
   ]
  },
  {
   "cell_type": "code",
   "execution_count": null,
   "metadata": {},
   "outputs": [],
   "source": [
    "{\"_id\":0,\"founded_year\":1,\"deadpooled_year\":1}\n",
    ",{\"Diff\": {\"$gte\": 3}}"
   ]
  }
 ],
 "metadata": {
  "kernelspec": {
   "display_name": "Python 3",
   "language": "python",
   "name": "python3"
  },
  "language_info": {
   "codemirror_mode": {
    "name": "ipython",
    "version": 3
   },
   "file_extension": ".py",
   "mimetype": "text/x-python",
   "name": "python",
   "nbconvert_exporter": "python",
   "pygments_lexer": "ipython3",
   "version": "3.7.7"
  }
 },
 "nbformat": 4,
 "nbformat_minor": 2
}
